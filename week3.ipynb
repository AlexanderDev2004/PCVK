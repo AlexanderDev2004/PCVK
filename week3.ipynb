{
 "cells": [
  {
   "cell_type": "markdown",
   "id": "868e3131",
   "metadata": {},
   "source": [
    "D1. Operasi Citra Sederhana"
   ]
  },
  {
   "cell_type": "code",
   "execution_count": 2,
   "id": "b2ade1b7",
   "metadata": {},
   "outputs": [
    {
     "ename": "ModuleNotFoundError",
     "evalue": "No module named 'google.colab'",
     "output_type": "error",
     "traceback": [
      "\u001b[1;31m---------------------------------------------------------------------------\u001b[0m",
      "\u001b[1;31mModuleNotFoundError\u001b[0m                       Traceback (most recent call last)",
      "Cell \u001b[1;32mIn[2], line 1\u001b[0m\n\u001b[1;32m----> 1\u001b[0m \u001b[38;5;28;01mfrom\u001b[39;00m\u001b[38;5;250m \u001b[39m\u001b[38;5;21;01mgoogle\u001b[39;00m\u001b[38;5;21;01m.\u001b[39;00m\u001b[38;5;21;01mcolab\u001b[39;00m\u001b[38;5;250m \u001b[39m\u001b[38;5;28;01mimport\u001b[39;00m drive\n\u001b[0;32m      2\u001b[0m drive\u001b[38;5;241m.\u001b[39mmount(\u001b[38;5;124m'\u001b[39m\u001b[38;5;124m/content/drive\u001b[39m\u001b[38;5;124m'\u001b[39m)\n",
      "\u001b[1;31mModuleNotFoundError\u001b[0m: No module named 'google.colab'"
     ]
    }
   ],
   "source": [
    "from google.colab import drive\n",
    "drive.mount('/content/drive')"
   ]
  },
  {
   "cell_type": "markdown",
   "id": "d8e3e572",
   "metadata": {},
   "source": [
    " Melakukan transformasi linier brightness dengan memasukkan nilai konstanta tertentu \n",
    "dan menghasilkan warna. Seperti yang telah dibahas pada ulasan teori, formula untuk \n",
    "melakukan transformasi linier brightness adalah sebagai berikut: \n",
    "\n",
    "g(𝑥,𝑦) = 𝑓(𝑥,𝑦)+ 𝑏  </br>\n",
    "\n",
    "dimana g(x,y) adalah nilai pixel setelah transformasi, f(x,y) adalah nilai pixel asli, dan b \n",
    "adalah nilai brightness. \n",
    "Tuliskan potongan kode berikut untuk mengimplementasikan linier brightness pada \n",
    "google colab: "
   ]
  },
  {
   "cell_type": "markdown",
   "id": "0972155c",
   "metadata": {},
   "source": [
    "Transformasi Linier Bigtness"
   ]
  }
 ],
 "metadata": {
  "kernelspec": {
   "display_name": "base",
   "language": "python",
   "name": "python3"
  },
  "language_info": {
   "codemirror_mode": {
    "name": "ipython",
    "version": 3
   },
   "file_extension": ".py",
   "mimetype": "text/x-python",
   "name": "python",
   "nbconvert_exporter": "python",
   "pygments_lexer": "ipython3",
   "version": "3.13.5"
  }
 },
 "nbformat": 4,
 "nbformat_minor": 5
}

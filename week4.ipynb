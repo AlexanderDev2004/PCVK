{
 "cells": [
  {
   "cell_type": "code",
   "execution_count": null,
   "id": "1ca1f1a9",
   "metadata": {},
   "outputs": [],
   "source": [
    "import cv2 as cv\n",
    "import numpy as np\n",
    "import math\n",
    "import os\n",
    "import glob \n",
    "import google.colab.patches import cv2_imshow\n",
    "import matplotlib.pyplot as plt"
   ]
  }
 ],
 "metadata": {
  "language_info": {
   "name": "python"
  }
 },
 "nbformat": 4,
 "nbformat_minor": 5
}
